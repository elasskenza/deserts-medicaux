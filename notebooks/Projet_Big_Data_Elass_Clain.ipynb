{
 "cells": [
  {
   "cell_type": "markdown",
   "metadata": {},
   "source": [
    "<h1 align=\"center\"> Score de densité médicale </h1> "
   ]
  },
  {
   "cell_type": "markdown",
   "metadata": {},
   "source": [
    "<h3 align=\"center\">Kenza Elass et Rebecca Clain</h3> "
   ]
  },
  {
   "cell_type": "code",
   "execution_count": 1,
   "metadata": {},
   "outputs": [],
   "source": [
    "import pandas as pd\n",
    "import seaborn as sns\n",
    "import numpy as np\n",
    "import matplotlib.pyplot as plt\n",
    "from sklearn.preprocessing import MinMaxScaler\n",
    "from sklearn import preprocessing\n",
    "sns.set_style('darkgrid')\n",
    "pd.set_option('display.max_columns', None) \n",
    "import ipywidgets as widgets\n",
    "from __future__ import print_function\n",
    "from ipywidgets import interact, interactive, fixed, interact_manual\n",
    "from IPython.display import display\n",
    "import warnings\n",
    "warnings.filterwarnings(\"ignore\")"
   ]
  },
  {
   "cell_type": "code",
   "execution_count": 2,
   "metadata": {},
   "outputs": [],
   "source": [
    "df = pd.read_csv('analyse_df.csv', sep = ';', low_memory = False)\n",
    "\n",
    "df.columns = ['code commune établissement', 'ambulance', 'analyse médicale', 'autre', 'autre spécialiste',\n",
    "              'chirurgien','dentiste', 'generaliste', 'hopital', 'infirmiers', 'organe', 'radiologiste',\n",
    "              'réeducateur podologue', 'code géographique', 'libellé géographique','nombre ménage fiscaux',\n",
    "              'nombre personne ménage fiscaux', 'médiane niveau de vie', 'part ménages fiscaux imposés',\n",
    "              'taux de pauvreté ensemble', 'taux de pauvreté moins de 30 ans', 'taux de pauvreté 30 à 39 ans',\n",
    "              'taux de pauvreté 40 à 49 ans', 'taux de pauvreté 50 à 59 ans', 'Taux de pauvreté 60 à 74 ans',\n",
    "              'taux de pauvreté 75 ans ou plus','taux de pauvreté propriétaires','taux de pauvreté locataires',\n",
    "              'part des revenus activités','dont part des salaires et traitement hors chomage',\n",
    "              'dont part des indemnites de chomage', 'dont part des revenus des activites non salaries',\n",
    "              'part des pensions retraites et rentes','part des revenus du patrimoine et autres revenus',\n",
    "              'part ensemble prestations sociales','dont part prestations familiales', 'dont part des minima sociaux',\n",
    "              'dont part des prestations logement','part des impots','1er décile niveau de vie',\n",
    "              '9e décile niveau de vie','rapport interdecile 9e/1er','merge_']"
   ]
  },
  {
   "cell_type": "code",
   "execution_count": 3,
   "metadata": {},
   "outputs": [
    {
     "name": "stdout",
     "output_type": "stream",
     "text": [
      "Your selected dataframe has 43 columns.\n",
      "There are 30 columns that have missing values.\n"
     ]
    },
    {
     "data": {
      "text/html": [
       "<div>\n",
       "<style scoped>\n",
       "    .dataframe tbody tr th:only-of-type {\n",
       "        vertical-align: middle;\n",
       "    }\n",
       "\n",
       "    .dataframe tbody tr th {\n",
       "        vertical-align: top;\n",
       "    }\n",
       "\n",
       "    .dataframe thead th {\n",
       "        text-align: right;\n",
       "    }\n",
       "</style>\n",
       "<table border=\"1\" class=\"dataframe\">\n",
       "  <thead>\n",
       "    <tr style=\"text-align: right;\">\n",
       "      <th></th>\n",
       "      <th>Missing Values</th>\n",
       "      <th>% of Total Values</th>\n",
       "    </tr>\n",
       "  </thead>\n",
       "  <tbody>\n",
       "    <tr>\n",
       "      <th>taux de pauvreté 75 ans ou plus</th>\n",
       "      <td>35540</td>\n",
       "      <td>98.9</td>\n",
       "    </tr>\n",
       "    <tr>\n",
       "      <th>taux de pauvreté moins de 30 ans</th>\n",
       "      <td>35118</td>\n",
       "      <td>97.8</td>\n",
       "    </tr>\n",
       "    <tr>\n",
       "      <th>Taux de pauvreté 60 à 74 ans</th>\n",
       "      <td>35068</td>\n",
       "      <td>97.6</td>\n",
       "    </tr>\n",
       "    <tr>\n",
       "      <th>taux de pauvreté 50 à 59 ans</th>\n",
       "      <td>34623</td>\n",
       "      <td>96.4</td>\n",
       "    </tr>\n",
       "    <tr>\n",
       "      <th>taux de pauvreté 30 à 39 ans</th>\n",
       "      <td>34480</td>\n",
       "      <td>96.0</td>\n",
       "    </tr>\n",
       "    <tr>\n",
       "      <th>taux de pauvreté 40 à 49 ans</th>\n",
       "      <td>34047</td>\n",
       "      <td>94.8</td>\n",
       "    </tr>\n",
       "    <tr>\n",
       "      <th>taux de pauvreté propriétaires</th>\n",
       "      <td>33769</td>\n",
       "      <td>94.0</td>\n",
       "    </tr>\n",
       "    <tr>\n",
       "      <th>taux de pauvreté locataires</th>\n",
       "      <td>32722</td>\n",
       "      <td>91.1</td>\n",
       "    </tr>\n",
       "    <tr>\n",
       "      <th>taux de pauvreté ensemble</th>\n",
       "      <td>31529</td>\n",
       "      <td>87.8</td>\n",
       "    </tr>\n",
       "    <tr>\n",
       "      <th>dont part des revenus des activites non salaries</th>\n",
       "      <td>30665</td>\n",
       "      <td>85.4</td>\n",
       "    </tr>\n",
       "    <tr>\n",
       "      <th>dont part des minima sociaux</th>\n",
       "      <td>30665</td>\n",
       "      <td>85.4</td>\n",
       "    </tr>\n",
       "    <tr>\n",
       "      <th>dont part des prestations logement</th>\n",
       "      <td>30665</td>\n",
       "      <td>85.4</td>\n",
       "    </tr>\n",
       "    <tr>\n",
       "      <th>part des impots</th>\n",
       "      <td>30665</td>\n",
       "      <td>85.4</td>\n",
       "    </tr>\n",
       "    <tr>\n",
       "      <th>1er décile niveau de vie</th>\n",
       "      <td>30665</td>\n",
       "      <td>85.4</td>\n",
       "    </tr>\n",
       "    <tr>\n",
       "      <th>9e décile niveau de vie</th>\n",
       "      <td>30665</td>\n",
       "      <td>85.4</td>\n",
       "    </tr>\n",
       "    <tr>\n",
       "      <th>dont part prestations familiales</th>\n",
       "      <td>30665</td>\n",
       "      <td>85.4</td>\n",
       "    </tr>\n",
       "    <tr>\n",
       "      <th>part ensemble prestations sociales</th>\n",
       "      <td>30665</td>\n",
       "      <td>85.4</td>\n",
       "    </tr>\n",
       "    <tr>\n",
       "      <th>part des revenus du patrimoine et autres revenus</th>\n",
       "      <td>30665</td>\n",
       "      <td>85.4</td>\n",
       "    </tr>\n",
       "    <tr>\n",
       "      <th>part des pensions retraites et rentes</th>\n",
       "      <td>30665</td>\n",
       "      <td>85.4</td>\n",
       "    </tr>\n",
       "    <tr>\n",
       "      <th>rapport interdecile 9e/1er</th>\n",
       "      <td>30665</td>\n",
       "      <td>85.4</td>\n",
       "    </tr>\n",
       "    <tr>\n",
       "      <th>dont part des indemnites de chomage</th>\n",
       "      <td>30665</td>\n",
       "      <td>85.4</td>\n",
       "    </tr>\n",
       "    <tr>\n",
       "      <th>dont part des salaires et traitement hors chomage</th>\n",
       "      <td>30665</td>\n",
       "      <td>85.4</td>\n",
       "    </tr>\n",
       "    <tr>\n",
       "      <th>part des revenus activités</th>\n",
       "      <td>30665</td>\n",
       "      <td>85.4</td>\n",
       "    </tr>\n",
       "    <tr>\n",
       "      <th>part ménages fiscaux imposés</th>\n",
       "      <td>30661</td>\n",
       "      <td>85.4</td>\n",
       "    </tr>\n",
       "    <tr>\n",
       "      <th>code commune établissement</th>\n",
       "      <td>15444</td>\n",
       "      <td>43.0</td>\n",
       "    </tr>\n",
       "    <tr>\n",
       "      <th>médiane niveau de vie</th>\n",
       "      <td>3670</td>\n",
       "      <td>10.2</td>\n",
       "    </tr>\n",
       "    <tr>\n",
       "      <th>nombre personne ménage fiscaux</th>\n",
       "      <td>3670</td>\n",
       "      <td>10.2</td>\n",
       "    </tr>\n",
       "    <tr>\n",
       "      <th>nombre ménage fiscaux</th>\n",
       "      <td>3670</td>\n",
       "      <td>10.2</td>\n",
       "    </tr>\n",
       "    <tr>\n",
       "      <th>code géographique</th>\n",
       "      <td>74</td>\n",
       "      <td>0.2</td>\n",
       "    </tr>\n",
       "    <tr>\n",
       "      <th>libellé géographique</th>\n",
       "      <td>74</td>\n",
       "      <td>0.2</td>\n",
       "    </tr>\n",
       "  </tbody>\n",
       "</table>\n",
       "</div>"
      ],
      "text/plain": [
       "                                                   Missing Values  \\\n",
       "taux de pauvreté 75 ans ou plus                             35540   \n",
       "taux de pauvreté moins de 30 ans                            35118   \n",
       "Taux de pauvreté 60 à 74 ans                                35068   \n",
       "taux de pauvreté 50 à 59 ans                                34623   \n",
       "taux de pauvreté 30 à 39 ans                                34480   \n",
       "taux de pauvreté 40 à 49 ans                                34047   \n",
       "taux de pauvreté propriétaires                              33769   \n",
       "taux de pauvreté locataires                                 32722   \n",
       "taux de pauvreté ensemble                                   31529   \n",
       "dont part des revenus des activites non salaries            30665   \n",
       "dont part des minima sociaux                                30665   \n",
       "dont part des prestations logement                          30665   \n",
       "part des impots                                             30665   \n",
       "1er décile niveau de vie                                    30665   \n",
       "9e décile niveau de vie                                     30665   \n",
       "dont part prestations familiales                            30665   \n",
       "part ensemble prestations sociales                          30665   \n",
       "part des revenus du patrimoine et autres revenus            30665   \n",
       "part des pensions retraites et rentes                       30665   \n",
       "rapport interdecile 9e/1er                                  30665   \n",
       "dont part des indemnites de chomage                         30665   \n",
       "dont part des salaires et traitement hors chomage           30665   \n",
       "part des revenus activités                                  30665   \n",
       "part ménages fiscaux imposés                                30661   \n",
       "code commune établissement                                  15444   \n",
       "médiane niveau de vie                                        3670   \n",
       "nombre personne ménage fiscaux                               3670   \n",
       "nombre ménage fiscaux                                        3670   \n",
       "code géographique                                              74   \n",
       "libellé géographique                                           74   \n",
       "\n",
       "                                                   % of Total Values  \n",
       "taux de pauvreté 75 ans ou plus                                 98.9  \n",
       "taux de pauvreté moins de 30 ans                                97.8  \n",
       "Taux de pauvreté 60 à 74 ans                                    97.6  \n",
       "taux de pauvreté 50 à 59 ans                                    96.4  \n",
       "taux de pauvreté 30 à 39 ans                                    96.0  \n",
       "taux de pauvreté 40 à 49 ans                                    94.8  \n",
       "taux de pauvreté propriétaires                                  94.0  \n",
       "taux de pauvreté locataires                                     91.1  \n",
       "taux de pauvreté ensemble                                       87.8  \n",
       "dont part des revenus des activites non salaries                85.4  \n",
       "dont part des minima sociaux                                    85.4  \n",
       "dont part des prestations logement                              85.4  \n",
       "part des impots                                                 85.4  \n",
       "1er décile niveau de vie                                        85.4  \n",
       "9e décile niveau de vie                                         85.4  \n",
       "dont part prestations familiales                                85.4  \n",
       "part ensemble prestations sociales                              85.4  \n",
       "part des revenus du patrimoine et autres revenus                85.4  \n",
       "part des pensions retraites et rentes                           85.4  \n",
       "rapport interdecile 9e/1er                                      85.4  \n",
       "dont part des indemnites de chomage                             85.4  \n",
       "dont part des salaires et traitement hors chomage               85.4  \n",
       "part des revenus activités                                      85.4  \n",
       "part ménages fiscaux imposés                                    85.4  \n",
       "code commune établissement                                      43.0  \n",
       "médiane niveau de vie                                           10.2  \n",
       "nombre personne ménage fiscaux                                  10.2  \n",
       "nombre ménage fiscaux                                           10.2  \n",
       "code géographique                                                0.2  \n",
       "libellé géographique                                             0.2  "
      ]
     },
     "execution_count": 3,
     "metadata": {},
     "output_type": "execute_result"
    }
   ],
   "source": [
    "def missing_values_table(df) :\n",
    "        \n",
    "        mis_val = df.isnull().sum()\n",
    "        mis_val_percent = 100 * df.isnull().sum() / len(df)\n",
    "        mis_val_table = pd.concat([mis_val, mis_val_percent], axis=1)\n",
    "        mis_val_table_ren_columns = mis_val_table.rename(\n",
    "        columns = {0 : 'Missing Values', 1 : '% of Total Values'})\n",
    "        mis_val_table_ren_columns = mis_val_table_ren_columns[\n",
    "            mis_val_table_ren_columns.iloc[:,1] != 0].sort_values('% of Total Values', ascending = False).round(1)\n",
    "        print (\"Your selected dataframe has \" + str(df.shape[1]) + \" columns.\\n\"      \n",
    "            \"There are \" + str(mis_val_table_ren_columns.shape[0]) + \" columns that have missing values.\")\n",
    "        \n",
    "        return mis_val_table_ren_columns\n",
    "    \n",
    "missing_values_table(df)"
   ]
  },
  {
   "cell_type": "markdown",
   "metadata": {},
   "source": [
    "# Construction d'un score de densité médicale"
   ]
  },
  {
   "cell_type": "code",
   "execution_count": 4,
   "metadata": {},
   "outputs": [
    {
     "data": {
      "text/html": [
       "<div>\n",
       "<style scoped>\n",
       "    .dataframe tbody tr th:only-of-type {\n",
       "        vertical-align: middle;\n",
       "    }\n",
       "\n",
       "    .dataframe tbody tr th {\n",
       "        vertical-align: top;\n",
       "    }\n",
       "\n",
       "    .dataframe thead th {\n",
       "        text-align: right;\n",
       "    }\n",
       "</style>\n",
       "<table border=\"1\" class=\"dataframe\">\n",
       "  <thead>\n",
       "    <tr style=\"text-align: right;\">\n",
       "      <th></th>\n",
       "      <th>nombre personne ménage fiscaux</th>\n",
       "      <th>ambulance</th>\n",
       "      <th>analyse médicale</th>\n",
       "      <th>autre</th>\n",
       "      <th>autre spécialiste</th>\n",
       "      <th>chirurgien</th>\n",
       "      <th>dentiste</th>\n",
       "      <th>generaliste</th>\n",
       "      <th>hopital</th>\n",
       "      <th>infirmiers</th>\n",
       "      <th>organe</th>\n",
       "      <th>radiologiste</th>\n",
       "      <th>réeducateur podologue</th>\n",
       "    </tr>\n",
       "    <tr>\n",
       "      <th>departement</th>\n",
       "      <th></th>\n",
       "      <th></th>\n",
       "      <th></th>\n",
       "      <th></th>\n",
       "      <th></th>\n",
       "      <th></th>\n",
       "      <th></th>\n",
       "      <th></th>\n",
       "      <th></th>\n",
       "      <th></th>\n",
       "      <th></th>\n",
       "      <th></th>\n",
       "      <th></th>\n",
       "    </tr>\n",
       "  </thead>\n",
       "  <tbody>\n",
       "    <tr>\n",
       "      <th>01</th>\n",
       "      <td>557566.0</td>\n",
       "      <td>82.0</td>\n",
       "      <td>39.0</td>\n",
       "      <td>718.0</td>\n",
       "      <td>203.0</td>\n",
       "      <td>39.0</td>\n",
       "      <td>368.0</td>\n",
       "      <td>597.0</td>\n",
       "      <td>138.0</td>\n",
       "      <td>1070.0</td>\n",
       "      <td>1.0</td>\n",
       "      <td>38.0</td>\n",
       "      <td>959.0</td>\n",
       "    </tr>\n",
       "    <tr>\n",
       "      <th>02</th>\n",
       "      <td>412914.0</td>\n",
       "      <td>65.0</td>\n",
       "      <td>36.0</td>\n",
       "      <td>238.0</td>\n",
       "      <td>263.0</td>\n",
       "      <td>25.0</td>\n",
       "      <td>261.0</td>\n",
       "      <td>567.0</td>\n",
       "      <td>119.0</td>\n",
       "      <td>986.0</td>\n",
       "      <td>5.0</td>\n",
       "      <td>59.0</td>\n",
       "      <td>562.0</td>\n",
       "    </tr>\n",
       "    <tr>\n",
       "      <th>03</th>\n",
       "      <td>300824.5</td>\n",
       "      <td>59.0</td>\n",
       "      <td>25.0</td>\n",
       "      <td>307.0</td>\n",
       "      <td>157.0</td>\n",
       "      <td>35.0</td>\n",
       "      <td>192.0</td>\n",
       "      <td>392.0</td>\n",
       "      <td>59.0</td>\n",
       "      <td>774.0</td>\n",
       "      <td>2.0</td>\n",
       "      <td>30.0</td>\n",
       "      <td>525.0</td>\n",
       "    </tr>\n",
       "    <tr>\n",
       "      <th>04</th>\n",
       "      <td>148467.5</td>\n",
       "      <td>23.0</td>\n",
       "      <td>18.0</td>\n",
       "      <td>279.0</td>\n",
       "      <td>118.0</td>\n",
       "      <td>15.0</td>\n",
       "      <td>134.0</td>\n",
       "      <td>342.0</td>\n",
       "      <td>48.0</td>\n",
       "      <td>631.0</td>\n",
       "      <td>0.0</td>\n",
       "      <td>6.0</td>\n",
       "      <td>419.0</td>\n",
       "    </tr>\n",
       "    <tr>\n",
       "      <th>05</th>\n",
       "      <td>127431.0</td>\n",
       "      <td>33.0</td>\n",
       "      <td>14.0</td>\n",
       "      <td>235.0</td>\n",
       "      <td>138.0</td>\n",
       "      <td>21.0</td>\n",
       "      <td>134.0</td>\n",
       "      <td>379.0</td>\n",
       "      <td>66.0</td>\n",
       "      <td>483.0</td>\n",
       "      <td>2.0</td>\n",
       "      <td>25.0</td>\n",
       "      <td>596.0</td>\n",
       "    </tr>\n",
       "  </tbody>\n",
       "</table>\n",
       "</div>"
      ],
      "text/plain": [
       "             nombre personne ménage fiscaux  ambulance  analyse médicale  \\\n",
       "departement                                                                \n",
       "01                                 557566.0       82.0              39.0   \n",
       "02                                 412914.0       65.0              36.0   \n",
       "03                                 300824.5       59.0              25.0   \n",
       "04                                 148467.5       23.0              18.0   \n",
       "05                                 127431.0       33.0              14.0   \n",
       "\n",
       "             autre  autre spécialiste  chirurgien  dentiste  generaliste  \\\n",
       "departement                                                                \n",
       "01           718.0              203.0        39.0     368.0        597.0   \n",
       "02           238.0              263.0        25.0     261.0        567.0   \n",
       "03           307.0              157.0        35.0     192.0        392.0   \n",
       "04           279.0              118.0        15.0     134.0        342.0   \n",
       "05           235.0              138.0        21.0     134.0        379.0   \n",
       "\n",
       "             hopital  infirmiers  organe  radiologiste  réeducateur podologue  \n",
       "departement                                                                    \n",
       "01             138.0      1070.0     1.0          38.0                  959.0  \n",
       "02             119.0       986.0     5.0          59.0                  562.0  \n",
       "03              59.0       774.0     2.0          30.0                  525.0  \n",
       "04              48.0       631.0     0.0           6.0                  419.0  \n",
       "05              66.0       483.0     2.0          25.0                  596.0  "
      ]
     },
     "execution_count": 4,
     "metadata": {},
     "output_type": "execute_result"
    }
   ],
   "source": [
    "df_dept = (df.dropna(subset = ['code commune établissement','nombre personne ménage fiscaux']) \n",
    "             .assign(departement = lambda df : df['code commune établissement'].str[:2])\n",
    "             .groupby('departement')\n",
    "             [['nombre personne ménage fiscaux','ambulance', 'analyse médicale', 'autre',\n",
    "             'autre spécialiste', 'chirurgien', 'dentiste', 'generaliste', 'hopital',\n",
    "             'infirmiers', 'organe', 'radiologiste', 'réeducateur podologue']]\n",
    "             .sum())\n",
    "df_dept.head()"
   ]
  },
  {
   "cell_type": "code",
   "execution_count": 5,
   "metadata": {},
   "outputs": [],
   "source": [
    "soins = ['ambulance','analyse médicale','autre','autre spécialiste','chirurgien','dentiste',\n",
    "         'generaliste','hopital','infirmiers','organe','radiologiste','réeducateur podologue']\n",
    "\n",
    "for v in soins :\n",
    "    df_dept[v + ' pour 100 000 habitants'] = 100000*df_dept[v]/df_dept['nombre personne ménage fiscaux']"
   ]
  },
  {
   "cell_type": "markdown",
   "metadata": {},
   "source": [
    "Exemple de distribution des généralistes en France (estimation de la densité par méthode du noyau gaussien)."
   ]
  },
  {
   "cell_type": "code",
   "execution_count": 6,
   "metadata": {},
   "outputs": [
    {
     "data": {
      "image/png": "[encoded data removed]",
      "text/plain": [
       "<Figure size 720x432 with 1 Axes>"
      ]
     },
     "metadata": {
      "needs_background": "light"
     },
     "output_type": "display_data"
    }
   ],
   "source": [
    "plt.figure(figsize=(10,6))\n",
    "sns.kdeplot(df_dept['generaliste pour 100 000 habitants'])\n",
    "plt.axvline(df_dept['generaliste pour 100 000 habitants'].median(), color = 'red', linestyle = '--')\n",
    "plt.show()"
   ]
  },
  {
   "cell_type": "markdown",
   "metadata": {},
   "source": [
    "Nous appellerons densité médicale le nombre de médecins pour 100 000 habitants dans un département donné. Il existe une densité médicale pour chaque poste de soins (ambulance, dentiste, chirurgien, radiothérapiste, etc). "
   ]
  },
  {
   "cell_type": "markdown",
   "metadata": {},
   "source": [
    "Pour simplifier, nous expliquerons la démarche en parlant uniquement de la densité de généraliste. La méthode reste la même pour les autres postes de soins."
   ]
  },
  {
   "cell_type": "markdown",
   "metadata": {},
   "source": [
    "Soit $x_{i}$ un vecteur ordonnant l'ensemble des densités de généralistes pour l'ensemble des départements $i$ (le rôle des poids $w_{i}$ sera présenté plus tard)."
   ]
  },
  {
   "cell_type": "markdown",
   "metadata": {},
   "source": [
    "$x_{i} = [x_{min},...,x_{median},...,x_{max}] \\:, w_{i} = [w_{min},...,w_{median},...,w_{max}]$ "
   ]
  },
  {
   "cell_type": "code",
   "execution_count": 7,
   "metadata": {},
   "outputs": [
    {
     "data": {
      "text/plain": [
       "count     97.000000\n",
       "mean     160.172290\n",
       "std       36.195403\n",
       "min      103.548581\n",
       "25%      135.185412\n",
       "50%      152.977729\n",
       "75%      182.096106\n",
       "max      297.415856\n",
       "Name: generaliste pour 100 000 habitants, dtype: float64"
      ]
     },
     "execution_count": 7,
     "metadata": {},
     "output_type": "execute_result"
    }
   ],
   "source": [
    "df_dept['generaliste pour 100 000 habitants'].describe()"
   ]
  },
  {
   "cell_type": "markdown",
   "metadata": {},
   "source": [
    "Nous avons donc : $x_{i} = [104,...,153,...,297] \\:; w_{i} = [w_{min},...,w_{median},...,w_{max}]$ "
   ]
  },
  {
   "cell_type": "markdown",
   "metadata": {},
   "source": [
    "Nous fixons un poids égal à $w_{median} = 1$ pour la densité de généraliste médiane $x_{median}$.\n",
    "Plus la densité de généraliste diminuera relativement à $x_{median}$, plus le poids $w$ diminuera.\n",
    "A l'inverse, plus la densité de généraliste augmentera par rapport à $x_{median}$, plus le poids augmentera. "
   ]
  },
  {
   "cell_type": "markdown",
   "metadata": {},
   "source": [
    "Pour cela, nous utilisons 2 boucles : la première pour remplir itérativement le vecteur les poids de $w_{median}$ jusqu'à $w_{min}$, la deuxième pour remplir itérativement le vecteur de poids de $w_{median}$ jusqu'à $w_{max}$."
   ]
  },
  {
   "cell_type": "code",
   "execution_count": 8,
   "metadata": {},
   "outputs": [],
   "source": [
    "def RelativeWeight(variable) : \n",
    "    \n",
    "    x = np.sort(df_dept[variable].values)\n",
    "\n",
    "    i = x.tolist().index(np.median(x))\n",
    "    w = [0] * len(x)\n",
    "    w[i] = 1\n",
    "\n",
    "    i = x.tolist().index(np.median(x))\n",
    "    while i >= 1 : \n",
    "        w[i-1] = (w[i]*x[i-1])/x[i]\n",
    "        i = i - 1\n",
    "\n",
    "    j = x.tolist().index(np.median(x))\n",
    "    while j <= len(w)-1 : \n",
    "        try :\n",
    "            w[j+1] = (w[j]*x[j+1])/x[j]\n",
    "        except : IndexError\n",
    "        pass\n",
    "        j = j + 1\n",
    "\n",
    "    d = pd.DataFrame(data = w, index = x, columns = ['Poids'])\n",
    "        \n",
    "    return d\n",
    "\n",
    "df_dept['poids_generaliste'] = df_dept['generaliste pour 100 000 habitants'].map(\n",
    "    RelativeWeight(variable = 'generaliste pour 100 000 habitants')[\"Poids\"])\n",
    "\n",
    "df_dept['poids_ambulance'] = df_dept['ambulance pour 100 000 habitants'].map(\n",
    "    RelativeWeight(variable = 'ambulance pour 100 000 habitants')[\"Poids\"])\n",
    "\n",
    "df_dept['poids_chirurgien'] = df_dept['chirurgien pour 100 000 habitants'].map(\n",
    "    RelativeWeight(variable = 'chirurgien pour 100 000 habitants')[\"Poids\"])\n",
    "\n",
    "df_dept['poids_dentiste'] = df_dept['dentiste pour 100 000 habitants'].map(\n",
    "    RelativeWeight(variable = 'dentiste pour 100 000 habitants')[\"Poids\"])\n",
    "\n",
    "df_dept['poids_hopital'] = df_dept['hopital pour 100 000 habitants'].map(\n",
    "    RelativeWeight(variable = 'hopital pour 100 000 habitants')[\"Poids\"])\n",
    "\n",
    "df_dept['poids_infirmiers'] = df_dept['infirmiers pour 100 000 habitants'].map(\n",
    "    RelativeWeight(variable = 'infirmiers pour 100 000 habitants')[\"Poids\"])\n",
    "\n",
    "df_dept['poids_réeductateur_podologue'] = df_dept['réeducateur podologue pour 100 000 habitants'].map(\n",
    "    RelativeWeight(variable = 'réeducateur podologue pour 100 000 habitants')[\"Poids\"])\n",
    "\n",
    "df_dept['poids_radiologiste'] = df_dept['radiologiste pour 100 000 habitants'].map(\n",
    "    RelativeWeight(variable = 'radiologiste pour 100 000 habitants')[\"Poids\"])\n",
    "\n",
    "df_dept['poids_analyse_médicale'] = df_dept['analyse médicale pour 100 000 habitants'].map(\n",
    "    RelativeWeight(variable = 'analyse médicale pour 100 000 habitants')[\"Poids\"])\n",
    "\n",
    "df_dept['poids_autre'] = df_dept['autre pour 100 000 habitants'].map(\n",
    "    RelativeWeight(variable = 'autre pour 100 000 habitants')[\"Poids\"])\n",
    "\n",
    "df_dept['poids_autre_spécialiste'] = df_dept['autre spécialiste pour 100 000 habitants'].map(\n",
    "    RelativeWeight(variable = 'autre spécialiste pour 100 000 habitants')[\"Poids\"])\n",
    "\n",
    "df_dept['poids_organe'] = df_dept['organe pour 100 000 habitants'].map(\n",
    "    RelativeWeight(variable = 'organe pour 100 000 habitants')[\"Poids\"].dropna())"
   ]
  },
  {
   "cell_type": "markdown",
   "metadata": {},
   "source": [
    "Maintenant que les poids sont calculés, nous pouvons \"ajuster\" les densités, pour chaque département $i$, pour chaque poste de soins $j$."
   ]
  },
  {
   "cell_type": "markdown",
   "metadata": {},
   "source": [
    "\\begin{equation}\n",
    "x_{ij}^{adj} = w_{ij} \\: x_{ij}\n",
    "\\end{equation}"
   ]
  },
  {
   "cell_type": "code",
   "execution_count": 9,
   "metadata": {},
   "outputs": [],
   "source": [
    "df_dept['ambulance_ajusté'] = df_dept['poids_ambulance'] * df_dept['ambulance pour 100 000 habitants']\n",
    "\n",
    "df_dept['réeducateur_podologue_ajusté'] = df_dept['poids_réeductateur_podologue'] * df_dept['réeducateur podologue pour 100 000 habitants']\n",
    "\n",
    "df_dept['analyse_médicale_ajusté'] = df_dept['poids_analyse_médicale'] * df_dept['analyse médicale pour 100 000 habitants']\n",
    "\n",
    "df_dept['autre_ajusté'] = df_dept['poids_autre'] * df_dept['autre pour 100 000 habitants']\n",
    "\n",
    "df_dept['autre_spécialiste_ajusté'] = df_dept['poids_autre_spécialiste'] * df_dept['autre spécialiste pour 100 000 habitants']\n",
    "\n",
    "df_dept['chirurgien_ajusté'] = df_dept['poids_chirurgien'] * df_dept['chirurgien pour 100 000 habitants']\n",
    "\n",
    "df_dept['dentiste_ajusté'] = df_dept['poids_dentiste'] * df_dept['dentiste pour 100 000 habitants']\n",
    "\n",
    "df_dept['generaliste_ajusté'] = df_dept['poids_generaliste'] * df_dept['generaliste pour 100 000 habitants']\n",
    "\n",
    "df_dept['hopital_ajusté'] = df_dept['poids_hopital'] * df_dept['hopital pour 100 000 habitants']\n",
    "\n",
    "df_dept['infirmier_ajusté'] = df_dept['poids_infirmiers'] * df_dept['infirmiers pour 100 000 habitants']\n",
    "\n",
    "df_dept['organe_ajusté'] = df_dept['poids_organe'] * df_dept['organe pour 100 000 habitants']\n",
    "\n",
    "df_dept['radiologiste_ajusté'] = df_dept['poids_radiologiste'] * df_dept['radiologiste pour 100 000 habitants']"
   ]
  },
  {
   "cell_type": "markdown",
   "metadata": {},
   "source": [
    "Nous avons ensuite décidé de sommer en colonne l'ensemble de ces nouvelles densités ajustées, de manière à obtenir comme une densité médicale globale ajustée, noté $y_{i}$"
   ]
  },
  {
   "cell_type": "markdown",
   "metadata": {},
   "source": [
    "\\begin{equation}\n",
    "\\displaystyle y_{i} = \\sum_{j=1}^{m} x_{ij}^{adj} \\\\\n",
    "\\end{equation}"
   ]
  },
  {
   "cell_type": "code",
   "execution_count": 10,
   "metadata": {},
   "outputs": [],
   "source": [
    "f = []\n",
    "for v in df_dept.columns : \n",
    "    if v.endswith('ajusté') : \n",
    "        f.append(v)\n",
    "d = df_dept[f]\n",
    "d['somme'] = d.sum(axis=1)"
   ]
  },
  {
   "cell_type": "markdown",
   "metadata": {},
   "source": [
    "Enfin, nous appliquons une transformation min-max sur cette nouvelle variable, me permettant d'obtenir un score de densité médicale compris entre 0 et 1."
   ]
  },
  {
   "cell_type": "markdown",
   "metadata": {},
   "source": [
    "\\begin{equation}\n",
    "\\displaystyle score_{i} = \\frac{y_{i} - y_{min}}{y_{max} - y_{min}}\n",
    "\\end{equation}"
   ]
  },
  {
   "cell_type": "code",
   "execution_count": 11,
   "metadata": {},
   "outputs": [],
   "source": [
    "x = d['somme'].values.reshape(-1,1) \n",
    "min_max_scaler = preprocessing.MinMaxScaler()\n",
    "x_scaled = min_max_scaler.fit_transform(x)\n",
    "d['score'] = x_scaled"
   ]
  },
  {
   "cell_type": "markdown",
   "metadata": {},
   "source": [
    "Visualisons la distribution de ce score (tend vers 1 si la densité médicale est relativement forte, et vers 0 si la densité médicale est relativement faible)."
   ]
  },
  {
   "cell_type": "code",
   "execution_count": 12,
   "metadata": {},
   "outputs": [
    {
     "data": {
      "image/png": "[encoded data removed]",
      "text/plain": [
       "<Figure size 792x576 with 2 Axes>"
      ]
     },
     "metadata": {
      "needs_background": "light"
     },
     "output_type": "display_data"
    }
   ],
   "source": [
    "plt.figure(figsize=(11,8))\n",
    "plt.subplot(2, 1, 1)\n",
    "plt.hist(d['score'], bins = 20)\n",
    "plt.subplot(2, 1, 2)\n",
    "sns.kdeplot(d['score'], shade = True)\n",
    "plt.show()"
   ]
  },
  {
   "cell_type": "markdown",
   "metadata": {},
   "source": [
    "# Tableau de bord"
   ]
  },
  {
   "cell_type": "code",
   "execution_count": 13,
   "metadata": {},
   "outputs": [
    {
     "data": {
      "application/vnd.jupyter.widget-view+json": {
       "model_id": "19c3818a2f46486ab53235540dd70faa",
       "version_major": 2,
       "version_minor": 0
      },
      "text/plain": [
       "ToggleButtons(description='Spécialité :', options=('Ambulance', 'Analyse médicale', 'Autre', 'Autre spécialist…"
      ]
     },
     "metadata": {},
     "output_type": "display_data"
    },
    {
     "data": {
      "application/vnd.jupyter.widget-view+json": {
       "model_id": "bebfc9381a674cc988561f33c29ffadc",
       "version_major": 2,
       "version_minor": 0
      },
      "text/plain": [
       "Select(description='Département :', options=('01', '02', '03', '04', '05', '06', '07', '08', '09', '10', '11',…"
      ]
     },
     "metadata": {},
     "output_type": "display_data"
    },
    {
     "data": {
      "application/vnd.jupyter.widget-view+json": {
       "model_id": "cf0f80bab27e4bdc8ad901b190cde173",
       "version_major": 2,
       "version_minor": 0
      },
      "text/plain": [
       "Button(description='Voir les résultats', style=ButtonStyle())"
      ]
     },
     "metadata": {},
     "output_type": "display_data"
    },
    {
     "data": {
      "application/vnd.jupyter.widget-view+json": {
       "model_id": "9edf21c5de254c57b97c3456b62174a5",
       "version_major": 2,
       "version_minor": 0
      },
      "text/plain": [
       "Output()"
      ]
     },
     "metadata": {},
     "output_type": "display_data"
    }
   ],
   "source": [
    "df_dept = df_dept.rename(columns = {'ambulance pour 100 000 habitants' : 'Ambulance',\n",
    "                                    'analyse médicale pour 100 000 habitants' : 'Analyse médicale',\n",
    "                                    'autre pour 100 000 habitants' : 'Autre',\n",
    "                                    'autre spécialiste pour 100 000 habitants' : 'Autre spécialiste',\n",
    "                                    'chirurgien pour 100 000 habitants' : 'Chirurgien',\n",
    "                                    'dentiste pour 100 000 habitants' : 'Dentiste',\n",
    "                                    'generaliste pour 100 000 habitants' : 'Généraliste',\n",
    "                                    'hopital pour 100 000 habitants' : 'Hôpital',\n",
    "                                    'infirmiers pour 100 000 habitants' : 'Infirmiers',\n",
    "                                    'organe pour 100 000 habitants' : 'Organe',\n",
    "                                    'radiologiste pour 100 000 habitants' : 'Radiologiste',\n",
    "                                    'réeducateur podologue pour 100 000 habitants' : 'Réeducateur podologue'})\n",
    "\n",
    "df_dept['Département'] = df_dept.index.values\n",
    "df_dept['Score'] = x_scaled\n",
    "\n",
    "a = widgets.ToggleButtons(\n",
    "                          options = ['Ambulance',\n",
    "                                     'Analyse médicale',\n",
    "                                     'Autre',\n",
    "                                     'Autre spécialiste',\n",
    "                                     'Chirurgien',\n",
    "                                     'Dentiste',\n",
    "                                     'Généraliste',\n",
    "                                     'Hôpital',\n",
    "                                     'Infirmiers',\n",
    "                                     'Organe',\n",
    "                                     'Radiologiste',\n",
    "                                     'Réeducateur podologue'],\n",
    "                          description = 'Spécialité :',\n",
    "                          disabled = False,\n",
    "                          button_style = ''\n",
    "                         )\n",
    "b = widgets.Select(\n",
    "                   options = df_dept['Département'].values.tolist(),\n",
    "                   value = '01',\n",
    "                   description = 'Département :',\n",
    "                   disabled = False\n",
    "                  )\n",
    "\n",
    "display(a,b)  \n",
    "\n",
    "button = widgets.Button(description= \"Voir les résultats\")\n",
    "display(button)\n",
    "\n",
    "output = widgets.Output()\n",
    "\n",
    "@output.capture()\n",
    "def on_button_clicked(z):\n",
    "    \n",
    "    print('Dans le département n°', b.value,', la densité en', a.value.lower(),\n",
    "    'est de', int(np.round(df_dept.loc[df_dept['Département'] == b.value, a.value].item(),0)),\n",
    "    'pour 100 000 habitants. \\nLe score de densité médicale de ce département est égal à',\n",
    "    np.round(df_dept.loc[df_dept['Département'] == b.value, \"Score\"].item(),2))\n",
    "    \n",
    "button.on_click(on_button_clicked)\n",
    "display(output)"
   ]
  }
 ],
 "metadata": {
  "kernelspec": {
   "display_name": "Python 3",
   "language": "python",
   "name": "python3"
  },
  "language_info": {
   "codemirror_mode": {
    "name": "ipython",
    "version": 3
   },
   "file_extension": ".py",
   "mimetype": "text/x-python",
   "name": "python",
   "nbconvert_exporter": "python",
   "pygments_lexer": "ipython3",
   "version": "3.7.1"
  }
 },
 "nbformat": 4,
 "nbformat_minor": 2
}
